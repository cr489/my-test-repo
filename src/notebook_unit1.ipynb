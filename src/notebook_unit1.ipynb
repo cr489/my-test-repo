{
 "cells": [
  {
   "cell_type": "markdown",
   "metadata": {},
   "source": [
    "**Sustainable Software Development, block course, March 2021**  \n",
    "*Scientific Software Center, Institute for Scientific Computing, Dr. Inga Ulusoy*\n",
    "\n",
    "# Analysis of the data\n",
    "\n",
    "Imagine you perform a \"measurement\" of some type and obtain \"scientific data\". You know what your data represents, but you have only a vague idea how different features in the data are connected, and what information you can extract from the data.\n",
    "\n",
    "You would start first with going through the data, making sure your data set is complete and that the result is reasonable. Imagine this already happened.\n",
    "\n",
    "In the next step, you would inspect your data more closely and try to identify structures. That is the step that we are focusing on in this unit.\n",
    "\n",
    "In the `data` folder, you will find several data files (`*.t` and `*.dat`). These are data files generated through some \"new approach\" that hasn't been used in your lab before. No previous analysis software exists, and you are going to establish a protocol for this \"new approach\" and \"publish your results\".\n",
    "\n",
    "The data can be grouped into two categories: \n",
    "1. data to be analyzed using statistical methods;\n",
    "2. data to be analyzed using numerical methods.\n",
    "\n",
    "In your hypothetical lab, you are an \"expert\" in one particular \"method\", and your co-worker is an \"expert\" in the other. Combined these two methods will lead to much more impactful results than if only one of you analyzed the data. Now, the task in this course is to be solved collaboratively with your team member working on one of the analysis approaches, and you working on the other. You will both implement functionality into the same piece of \"software\", but do so collaboratively through git.\n",
    "\n",
    "As you do not know yet which analysis is most meaningful for your data, and how to implement it, you will start with a jupyter notebook. You and your team member will work on the same notebook that will be part of a github repository for your project. This is the task for today. Discuss with your team members who will work on the statistical and who on the numerical analysis."
   ]
  },
  {
   "cell_type": "markdown",
   "metadata": {},
   "source": [
    "## Step 1\n",
    "\n",
    "Generate a github repository with the relevant files."
   ]
  },
  {
   "cell_type": "markdown",
   "metadata": {},
   "source": [
    "## Step 2\n",
    "\n",
    "Clone the repository to your local machine."
   ]
  },
  {
   "cell_type": "markdown",
   "metadata": {},
   "source": [
    "## Step 3\n",
    "\n",
    "Start working on task 1 for your analysis approach. "
   ]
  },
  {
   "cell_type": "markdown",
   "metadata": {},
   "source": [
    "## Step 4\n",
    "\n",
    "Create your own branch of the repository and commit your changes to your branch; push to the remote repository."
   ]
  },
  {
   "cell_type": "markdown",
   "metadata": {},
   "source": [
    "## Step 5\n",
    "\n",
    "Open a `pull request` so your team member can review your implementation. Likewise, your team member will ask you to review theirs."
   ]
  },
  {
   "cell_type": "markdown",
   "metadata": {},
   "source": [
    "## Step 6\n",
    "\n",
    "Merge the changes in your branch into `main`. Resolve conflicts."
   ]
  },
  {
   "cell_type": "markdown",
   "metadata": {},
   "source": [
    "## Step 7\n",
    "\n",
    "Repeat working on task; committing and pushing to your previously generated branch or a new branch; open a pull request; merge with main; until you have finished all the tasks in your analysis approach. Delete obsolete branches."
   ]
  },
  {
   "cell_type": "markdown",
   "metadata": {},
   "source": [
    "# Start of the analysis notebook\n",
    "\n",
    "**Author : Charlotte Remnant**  \n",
    "*Date : 01/03/22*  \n",
    "*Affiliation : ???*  \n",
    "\n",
    "Place the required modules in the top, followed by required constants and global functions."
   ]
  },
  {
   "cell_type": "code",
   "execution_count": 1,
   "metadata": {},
   "outputs": [],
   "source": [
    "# required modules\n",
    "import numpy as np\n",
    "import matplotlib.pyplot as plt\n",
    "import pandas as pd\n",
    "import os\n",
    "from os import listdir\n",
    "from os.path import isfile, join\n",
    "\n",
    "base = os.path.dirname(\"../data/\")\n",
    "files = [f for f in listdir(base) if isfile(join(base, f))]\n",
    "import seaborn as sns\n",
    "\n",
    "sns.set()"
   ]
  },
  {
   "cell_type": "code",
   "execution_count": 2,
   "metadata": {},
   "outputs": [],
   "source": [
    "# constants and global functions\n",
    "hello = 1"
   ]
  },
  {
   "cell_type": "code",
   "execution_count": 3,
   "metadata": {},
   "outputs": [],
   "source": [
    "# reading of the data files\n",
    "pd.set_option(\"display.float_format\", \"{:.10f}\".format)\n",
    "dfiles = {}\n",
    "for i in range(len(files)):\n",
    "    dfiles[files[i]] = pd.read_csv(base + \"/\" + files[i], sep=\"\\s+\")"
   ]
  },
  {
   "cell_type": "markdown",
   "metadata": {},
   "source": [
    "# Statistical analysis\n",
    "\n",
    "Find correlations in the data sets. Analyse the data statistically and plot your results.  \n",
    "\n",
    "Here we would want to do everything with pandas and leave the data in a dataframe. The files that are relevant to you are `expect.t`, `npop.t` and `table.dat`."
   ]
  },
  {
   "cell_type": "markdown",
   "metadata": {},
   "source": [
    "### Task 1: Read in expec.t and plot relevant data"
   ]
  },
  {
   "cell_type": "code",
   "execution_count": 63,
   "metadata": {},
   "outputs": [
    {
     "data": {
      "text/html": [
       "<div>\n",
       "<style scoped>\n",
       "    .dataframe tbody tr th:only-of-type {\n",
       "        vertical-align: middle;\n",
       "    }\n",
       "\n",
       "    .dataframe tbody tr th {\n",
       "        vertical-align: top;\n",
       "    }\n",
       "\n",
       "    .dataframe thead th {\n",
       "        text-align: right;\n",
       "    }\n",
       "</style>\n",
       "<table border=\"1\" class=\"dataframe\">\n",
       "  <thead>\n",
       "    <tr style=\"text-align: right;\">\n",
       "      <th></th>\n",
       "      <th>time</th>\n",
       "      <th>norm</th>\n",
       "      <th>&lt;x&gt;</th>\n",
       "      <th>&lt;y&gt;</th>\n",
       "      <th>&lt;z&gt;</th>\n",
       "      <th>&lt;H&gt;</th>\n",
       "    </tr>\n",
       "  </thead>\n",
       "  <tbody>\n",
       "    <tr>\n",
       "      <th>0</th>\n",
       "      <td>0.0000000000</td>\n",
       "      <td>1.0000000000</td>\n",
       "      <td>0.0000000000</td>\n",
       "      <td>0.0000000000</td>\n",
       "      <td>-2.1963200000</td>\n",
       "      <td>0.0000000000</td>\n",
       "    </tr>\n",
       "    <tr>\n",
       "      <th>1</th>\n",
       "      <td>0.1000000000</td>\n",
       "      <td>1.0000000000</td>\n",
       "      <td>0.0000000000</td>\n",
       "      <td>0.0000000000</td>\n",
       "      <td>-2.1963200000</td>\n",
       "      <td>0.0000000000</td>\n",
       "    </tr>\n",
       "    <tr>\n",
       "      <th>2</th>\n",
       "      <td>0.2000000000</td>\n",
       "      <td>1.0000000000</td>\n",
       "      <td>-0.0000000000</td>\n",
       "      <td>0.0000000000</td>\n",
       "      <td>-2.1963200000</td>\n",
       "      <td>0.0000000000</td>\n",
       "    </tr>\n",
       "    <tr>\n",
       "      <th>3</th>\n",
       "      <td>0.3000000000</td>\n",
       "      <td>1.0000000000</td>\n",
       "      <td>-0.0000000000</td>\n",
       "      <td>0.0000000000</td>\n",
       "      <td>-2.1963200000</td>\n",
       "      <td>0.0000000000</td>\n",
       "    </tr>\n",
       "    <tr>\n",
       "      <th>4</th>\n",
       "      <td>0.4000000000</td>\n",
       "      <td>1.0000000000</td>\n",
       "      <td>-0.0000000000</td>\n",
       "      <td>0.0000000000</td>\n",
       "      <td>-2.1963200000</td>\n",
       "      <td>0.0000000000</td>\n",
       "    </tr>\n",
       "    <tr>\n",
       "      <th>...</th>\n",
       "      <td>...</td>\n",
       "      <td>...</td>\n",
       "      <td>...</td>\n",
       "      <td>...</td>\n",
       "      <td>...</td>\n",
       "      <td>...</td>\n",
       "    </tr>\n",
       "    <tr>\n",
       "      <th>96</th>\n",
       "      <td>9.6000000000</td>\n",
       "      <td>1.0000000000</td>\n",
       "      <td>0.0000000000</td>\n",
       "      <td>-0.0000000000</td>\n",
       "      <td>-2.0121708305</td>\n",
       "      <td>0.0329491652</td>\n",
       "    </tr>\n",
       "    <tr>\n",
       "      <th>97</th>\n",
       "      <td>9.7000000000</td>\n",
       "      <td>1.0000000000</td>\n",
       "      <td>0.0000000000</td>\n",
       "      <td>0.0000000000</td>\n",
       "      <td>-1.4413467109</td>\n",
       "      <td>0.0329491652</td>\n",
       "    </tr>\n",
       "    <tr>\n",
       "      <th>98</th>\n",
       "      <td>9.8000000000</td>\n",
       "      <td>1.0000000000</td>\n",
       "      <td>0.0000000000</td>\n",
       "      <td>0.0000000000</td>\n",
       "      <td>-0.9824189523</td>\n",
       "      <td>0.0329491652</td>\n",
       "    </tr>\n",
       "    <tr>\n",
       "      <th>99</th>\n",
       "      <td>9.9000000000</td>\n",
       "      <td>1.0000000000</td>\n",
       "      <td>-0.0000000000</td>\n",
       "      <td>0.0000000000</td>\n",
       "      <td>-0.7593040788</td>\n",
       "      <td>0.0329491652</td>\n",
       "    </tr>\n",
       "    <tr>\n",
       "      <th>100</th>\n",
       "      <td>10.0000000000</td>\n",
       "      <td>1.0000000000</td>\n",
       "      <td>-0.0000000000</td>\n",
       "      <td>0.0000000000</td>\n",
       "      <td>-0.6298354075</td>\n",
       "      <td>0.0329491652</td>\n",
       "    </tr>\n",
       "  </tbody>\n",
       "</table>\n",
       "<p>101 rows × 6 columns</p>\n",
       "</div>"
      ],
      "text/plain": [
       "             time         norm           <x>           <y>           <z>  \\\n",
       "0    0.0000000000 1.0000000000  0.0000000000  0.0000000000 -2.1963200000   \n",
       "1    0.1000000000 1.0000000000  0.0000000000  0.0000000000 -2.1963200000   \n",
       "2    0.2000000000 1.0000000000 -0.0000000000  0.0000000000 -2.1963200000   \n",
       "3    0.3000000000 1.0000000000 -0.0000000000  0.0000000000 -2.1963200000   \n",
       "4    0.4000000000 1.0000000000 -0.0000000000  0.0000000000 -2.1963200000   \n",
       "..            ...          ...           ...           ...           ...   \n",
       "96   9.6000000000 1.0000000000  0.0000000000 -0.0000000000 -2.0121708305   \n",
       "97   9.7000000000 1.0000000000  0.0000000000  0.0000000000 -1.4413467109   \n",
       "98   9.8000000000 1.0000000000  0.0000000000  0.0000000000 -0.9824189523   \n",
       "99   9.9000000000 1.0000000000 -0.0000000000  0.0000000000 -0.7593040788   \n",
       "100 10.0000000000 1.0000000000 -0.0000000000  0.0000000000 -0.6298354075   \n",
       "\n",
       "             <H>  \n",
       "0   0.0000000000  \n",
       "1   0.0000000000  \n",
       "2   0.0000000000  \n",
       "3   0.0000000000  \n",
       "4   0.0000000000  \n",
       "..           ...  \n",
       "96  0.0329491652  \n",
       "97  0.0329491652  \n",
       "98  0.0329491652  \n",
       "99  0.0329491652  \n",
       "100 0.0329491652  \n",
       "\n",
       "[101 rows x 6 columns]"
      ]
     },
     "execution_count": 63,
     "metadata": {},
     "output_type": "execute_result"
    }
   ],
   "source": [
    "# read and plot expec.t\n",
    "expec = dfiles[files[1]]\n",
    "expec"
   ]
  },
  {
   "cell_type": "markdown",
   "metadata": {},
   "source": [
    "We can discard the entries norm, \\<x>, and \\<y> as these are mostly constant."
   ]
  },
  {
   "cell_type": "code",
   "execution_count": 64,
   "metadata": {},
   "outputs": [],
   "source": [
    "# eliminate columns based on the variance: if the variance of the values\n",
    "# in a column is below a given threshold, that column is discarded\n",
    "cols = [\"norm\", \"<x>\", \"<y>\"]\n",
    "\n",
    "for i in cols:\n",
    "    expec = expec.drop(str(i), axis=1)\n",
    "\n",
    "#expec"
   ]
  },
  {
   "cell_type": "markdown",
   "metadata": {},
   "source": [
    "### Task 2: Create plots of the relevant data and save as .pdf."
   ]
  },
  {
   "cell_type": "code",
   "execution_count": 65,
   "metadata": {},
   "outputs": [
    {
     "data": {
      "text/plain": [
       "array([[<AxesSubplot:xlabel='time'>],\n",
       "       [<AxesSubplot:xlabel='time'>]], dtype=object)"
      ]
     },
     "execution_count": 65,
     "metadata": {},
     "output_type": "execute_result"
    },
    {
     "data": {
      "image/png": "[encoded data removed]",
      "text/plain": [
       "<Figure size 576x864 with 2 Axes>"
      ]
     },
     "metadata": {},
     "output_type": "display_data"
    }
   ],
   "source": [
    "# create plots\n",
    "plot_list = [\"<z>\", \"<H>\"]\n",
    "\n",
    "expec.plot(\n",
    "    x=\"time\",\n",
    "    y=plot_list,\n",
    "    kind=\"line\",\n",
    "    subplots=True,\n",
    "    sharex=True,\n",
    "    layout=(2, 1),\n",
    "    figsize=(8, 12),\n",
    "    title=\"Expectation Data\",\n",
    ")\n",
    "\n",
    "# plt.savefig(base[:-4] + \"figures/expec.pdf\", bbox_inches=\"tight\")"
   ]
  },
  {
   "cell_type": "markdown",
   "metadata": {},
   "source": [
    "### Task 3: Read in file `npop.t` and analyze correlations in the data"
   ]
  },
  {
   "cell_type": "code",
   "execution_count": null,
   "metadata": {},
   "outputs": [],
   "source": [
    "# read in npop.t\n",
    "npop = dfiles[files[2]]\n",
    "npop"
   ]
  },
  {
   "cell_type": "code",
   "execution_count": null,
   "metadata": {},
   "outputs": [],
   "source": [
    "# discard all columns with variance below a set threshold - we can consider them as constant\n",
    "n = npop.shape[1]\n",
    "names = list(npop.columns)\n",
    "var = npop.var()\n",
    "for i in range(n):\n",
    "    if var[i] <= 0.00001:\n",
    "        del npop[names[i]]\n",
    "npop"
   ]
  },
  {
   "cell_type": "markdown",
   "metadata": {},
   "source": [
    "Plot the remaining columns. Seaborn prefers \"long format\" (one column for all measurement values, one column to indicate the type) as input, whereas the cvs is in \"wide format\" (one column per measurement type)."
   ]
  },
  {
   "cell_type": "code",
   "execution_count": null,
   "metadata": {},
   "outputs": [],
   "source": [
    "# plot ideally with seaborn\n",
    "\n",
    "long = pd.wide_to_long(npop, stubnames=\"MO\", i=[\"time\"], j=\"num\")\n",
    "long\n",
    "\n",
    "sns.relplot(data=long, x=\"time\", y=\"MO\", hue=\"num\", kind=\"line\")"
   ]
  },
  {
   "cell_type": "markdown",
   "metadata": {},
   "source": [
    "## Quantify the pairwise correlation in the data\n",
    "\n",
    "- negative correlation: y values decrease for increasing x - large values of one feature correspond to small values of the other feature\n",
    "- weak or no correlation: no trend observable, association between two features is hardly observable\n",
    "- positive correlation: y values increase for decreasing x - small values of one feature correspond to small values of the other feature\n",
    "\n",
    "Remember that correlation does not indicate causation - the reason that two features are associated can lie in their dependence on same factors.\n",
    "\n",
    "Correlate the value pairs using Pearson's $r$. Pearson's $r$ is a measure of the linear relationship between features:\n",
    "\n",
    "$r = \\frac{\\sum_i(x_i − \\bar{x})(y_i − \\bar{y})}{\\sqrt{\\sum_i(x_i − \\bar{x})^2 \\sum_i(y_i − \\bar{y})^2}}$\n",
    "\n",
    "Here, $\\bar{x}$ and $\\bar{y}$ indicate mean values. $i$ runs over the whole data set. For a positive correlation, $r$ is positive, and negative for a negative correlation, with minimum and maximum values of -1 and 1, indicating a perfectly linear relationship. Weakly or not correlated features are characterized by $r$-values close to 0.\n",
    "\n",
    "Other measures of correlation that can be used are Spearman's rank (value pairs follow monotonic function) or Kendall's $\\tau$ (measures ordinal association), but they do not apply here. You can also define measures yourself."
   ]
  },
  {
   "cell_type": "code",
   "execution_count": null,
   "metadata": {},
   "outputs": [],
   "source": [
    "# print the correlation matrix\n",
    "corrL = npop.corr(method=\"pearson\")\n",
    "corrL"
   ]
  },
  {
   "cell_type": "markdown",
   "metadata": {},
   "source": [
    "The diagonal values tell us that each value is perfectly correlated with itself. We are not interested in the diagonal values and also not in the correlation with time. We also need to get rid of redundant entries. Finally, we need to find the value pairs that exhibit the highest linear correlation. We still want to know if it is positive or negative correlation, so we cannot get rid of the sign."
   ]
  },
  {
   "cell_type": "code",
   "execution_count": null,
   "metadata": {},
   "outputs": [],
   "source": [
    "# get rid of time column, lower triangular and diagonal entries of the correlation matrix\n",
    "# sort the remaing values according to their absolute value, but keep the sign\n",
    "corrL2 = corrL.drop(index=\"time\", columns=\"time\")\n",
    "up_tri = corrL2.where(np.triu(np.ones(corrL2.shape), k=1).astype(bool))\n",
    "up_tri2 = up_tri.drop(\"MO3\", axis=1)\n",
    "stack = up_tri2.unstack()  # unstacks up_tri2 matrix\n",
    "ab_vals = stack[abs(stack) >= 0.9]"
   ]
  },
  {
   "cell_type": "markdown",
   "metadata": {},
   "source": [
    "Note that the entries in the left column are not repeated if they do not change from the row above (so the fourth feature pair is MO3 and MO6)."
   ]
  },
  {
   "cell_type": "markdown",
   "metadata": {},
   "source": [
    "### Task 4: Print the resulting data to a file"
   ]
  },
  {
   "cell_type": "code",
   "execution_count": null,
   "metadata": {},
   "outputs": [],
   "source": [
    "# write to file\n",
    "print(ab_vals)\n",
    "ab_vals.to_csv(base[:-4] + \"/files/ab_vals.t\")"
   ]
  },
  {
   "cell_type": "markdown",
   "metadata": {},
   "source": [
    "### Task 5: Calculate the Euclidean distance (L2 norm) for the vectors in `table.dat`\n",
    "\n",
    "\n",
    "The Euclidean distance measures the distance between to objects that are not points:\n",
    "\n",
    "$d(p,q) = \\sqrt{\\left(p-q\\right)^2}$\n",
    "\n",
    "In this case, consider each of the columns in table.dat as a vector in Euclidean space, where column $r(x)$ and column $v(x)$ denote a pair of vectors that should be compared, as well as $r(y)$ and $v(y)$, and r(z) and v(z).\n",
    "\n",
    "(Background: These are dipole moment components in different gauges, the length and velocity gauge.)"
   ]
  },
  {
   "cell_type": "code",
   "execution_count": 7,
   "metadata": {},
   "outputs": [],
   "source": [
    "# constants and global functions\n",
    "def read_file(path1, file):\n",
    "    pd.set_option(\"display.float_format\", \"{:.10f}\".format)\n",
    "    fls1 = path1 + file\n",
    "    ptem1 = pd.read_csv(fls1, sep=r\"\\s+\", header=None, skiprows=1)\n",
    "    file1 = np.zeros((ptem1.shape[1], len(ptem1[1])))\n",
    "\n",
    "    for i in range(ptem1.shape[1]):\n",
    "        file1[i] = ptem1[i].values\n",
    "\n",
    "    return file1"
   ]
  },
  {
   "cell_type": "code",
   "execution_count": 8,
   "metadata": {},
   "outputs": [],
   "source": [
    "# reading of the data files\n",
    "path1 = \"../data/\"\n",
    "files_all = [\"efield.t\", \"expec.t\", \"npop.t\", \"nstate_i.t\", \"table.dat\"]\n",
    "\n",
    "field = read_file(path1, files_all[0])\n",
    "expec = read_file(path1, files_all[1])\n",
    "npop = read_file(path1, files_all[2])\n",
    "nstate = read_file(path1, files_all[3])\n",
    "table = read_file(path1, files_all[4])"
   ]
  },
  {
   "cell_type": "code",
   "execution_count": 9,
   "metadata": {},
   "outputs": [],
   "source": [
    "# read in table.dat - I suggest reading it as a numpy array\n",
    "# replace the NaNs by zero\n",
    "for i, x in enumerate(table[:]):\n",
    "    for j, y in enumerate(table[0, :]):\n",
    "        if table[i, j] == \"NaN\":\n",
    "            print(\"There is a NaN value in column\", i, \"and row\", j)"
   ]
  },
  {
   "cell_type": "markdown",
   "metadata": {},
   "source": [
    "Now calculate how different the vectors in column 2 are from column 3, column 4 from column 5, and column 6 from column 7."
   ]
  },
  {
   "cell_type": "code",
   "execution_count": 10,
   "metadata": {},
   "outputs": [],
   "source": [
    "# calculate the Euclidean distance\n",
    "def eq_dis(file, p, q):\n",
    "    eq_fl = np.zeros((len(file[0])))\n",
    "    eq_fl = np.absolute(file[p] - file[q])\n",
    "    return eq_fl"
   ]
  },
  {
   "cell_type": "code",
   "execution_count": 11,
   "metadata": {},
   "outputs": [],
   "source": [
    "df_23 = eq_dis(table, 2, 3)\n",
    "df_45 = eq_dis(table, 4, 5)\n",
    "df_67 = eq_dis(table, 6, 7)"
   ]
  },
  {
   "cell_type": "code",
   "execution_count": 12,
   "metadata": {},
   "outputs": [
    {
     "data": {
      "image/png": "[encoded data removed]",
      "text/plain": [
       "<Figure size 432x288 with 1 Axes>"
      ]
     },
     "metadata": {},
     "output_type": "display_data"
    }
   ],
   "source": [
    "# plot the result and save to a .pdf\n",
    "plt.bar(0, df_23)\n",
    "plt.bar(1, df_45)\n",
    "plt.bar(2, df_67)\n",
    "\n",
    "# plt.savefig(\"../figures/Euclidean.pdf\", format=\"pdf\", bbox_inches=\"tight\")\n",
    "plt.show()"
   ]
  },
  {
   "cell_type": "code",
   "execution_count": null,
   "metadata": {},
   "outputs": [],
   "source": [
    "# print the result to a file"
   ]
  },
  {
   "cell_type": "markdown",
   "metadata": {},
   "source": [
    "# Numerical analysis\n",
    "\n",
    "Analyze the data using autocorrelation functions and discrete Fourier transforms. Plot your results."
   ]
  },
  {
   "cell_type": "code",
   "execution_count": null,
   "metadata": {},
   "outputs": [],
   "source": [
    "# define some global functions"
   ]
  },
  {
   "cell_type": "markdown",
   "metadata": {},
   "source": [
    "### Task 1: Read in `efield.t` and Fourier-transform relevant columns"
   ]
  },
  {
   "cell_type": "code",
   "execution_count": 13,
   "metadata": {},
   "outputs": [
    {
     "data": {
      "image/png": "[encoded data removed]",
      "text/plain": [
       "<Figure size 720x576 with 1 Axes>"
      ]
     },
     "metadata": {},
     "output_type": "display_data"
    }
   ],
   "source": [
    "# read and plot efield.t\n",
    "pd.set_option(\"display.float_format\", \"{:.10f}\".format)\n",
    "data = pd.read_csv(\"../data/efield.t\", sep=r\"\\s+\")\n",
    "x = data[\"time\"]\n",
    "y = data[\"y\"]\n",
    "\n",
    "# plotting\n",
    "fig, ax = plt.subplots(figsize=(10, 8))\n",
    "ax.plot(x, y)\n",
    "plt.show()"
   ]
  },
  {
   "cell_type": "markdown",
   "metadata": {},
   "source": [
    "Here we are interested in column 2 since the others are constant."
   ]
  },
  {
   "cell_type": "code",
   "execution_count": 14,
   "metadata": {},
   "outputs": [],
   "source": [
    "# discard the columns with variance below threshold - these are considered constant\n",
    "newdata = data.drop([\"x\", \"z\"], axis=1)"
   ]
  },
  {
   "cell_type": "code",
   "execution_count": 15,
   "metadata": {},
   "outputs": [],
   "source": [
    "# discrete Fourier transform of the remaining column: You only need the real frequencies\n",
    "dft = np.fft.fft(newdata[\"y\"], axis=0)\n",
    "rl_dft = np.real(dft)"
   ]
  },
  {
   "cell_type": "markdown",
   "metadata": {},
   "source": [
    "### Task 2: Generate a plot of your results to be saved as pdf."
   ]
  },
  {
   "cell_type": "code",
   "execution_count": 16,
   "metadata": {},
   "outputs": [
    {
     "data": {
      "image/png": "[encoded data removed]",
      "text/plain": [
       "<Figure size 720x576 with 1 Axes>"
      ]
     },
     "metadata": {},
     "output_type": "display_data"
    }
   ],
   "source": [
    "# plot your results\n",
    "x1 = newdata[\"time\"]\n",
    "y1 = rl_dft\n",
    "fig, ax = plt.subplots(figsize=(10, 8))\n",
    "ax.plot(x1, y1)\n",
    "plt.xlabel(\"Time\")\n",
    "plt.savefig(\"../figures/DFT.pdf\", format=\"pdf\", bbox_inches=\"tight\")\n",
    "plt.show()"
   ]
  },
  {
   "cell_type": "markdown",
   "metadata": {},
   "source": [
    "### Task 3: Calculate the autocorrelation function from nstate_i.t\n",
    "The autocorrelation function measures how correlated subsequent vectors are with an initial vector; ie. \n",
    "\n",
    "$\\Psi_{corr} = \\langle \\Psi(t=0) | \\Psi(t) \\rangle = \\int_0^{tfin} \\Psi(0)^* \\Psi(t) dt$\n",
    "\n",
    "Since we are in a numerical representation, the integral can be replaced with a sum; and the given vectors are already normalized."
   ]
  },
  {
   "cell_type": "code",
   "execution_count": 17,
   "metadata": {},
   "outputs": [],
   "source": [
    "# read in as numpy array\n",
    "arr = np.loadtxt(\"../data/nstate_i.t\", dtype=float, skiprows=1)"
   ]
  },
  {
   "cell_type": "code",
   "execution_count": 18,
   "metadata": {},
   "outputs": [],
   "source": [
    "# store the time column (column 0) in a vector and drop from array\n",
    "t = arr[:, 0]\n",
    "arr1 = np.delete(arr, 0, axis=1)  # deleting time column"
   ]
  },
  {
   "cell_type": "code",
   "execution_count": 19,
   "metadata": {},
   "outputs": [],
   "source": [
    "# correct the data representation: this is in fact a complex matrix\n",
    "# the real part of each matrix column is contained in numpy array column 0, 2, 4, 6, ...\n",
    "# the imaginary part of each matrix column is contained in numpy array column 1, 3, 5, 7, ...\n",
    "# convert the array that was read as dtype=float into a dtype=complex array\n",
    "r_arr = arr1[:, 0::2]\n",
    "im_arr = arr1[:, 1::2]\n",
    "cmplx = 1j * im_arr\n",
    "cmplx += r_arr"
   ]
  },
  {
   "cell_type": "code",
   "execution_count": 20,
   "metadata": {},
   "outputs": [],
   "source": [
    "# for the autocorrelation function, we want the overlap between the first vector at time 0 and all\n",
    "# subsequent vectors at later times - the sum of the product of initial and subsequent vectors for each time stop\n",
    "a = cmplx[0, :]\n",
    "v = cmplx[:, :]\n",
    "autoCorr = np.zeros(101, dtype=\"complex128\")\n",
    "\n",
    "for i in range(0, 101):\n",
    "    autoCorr[i] = np.correlate(a, v[i, :])  # cmplx[0,:],cmplx[i,:])"
   ]
  },
  {
   "cell_type": "markdown",
   "metadata": {},
   "source": [
    "### Task 4: Generate a plot of your results to be saved as pdf."
   ]
  },
  {
   "cell_type": "code",
   "execution_count": 21,
   "metadata": {},
   "outputs": [
    {
     "data": {
      "image/png": "[encoded data removed]",
      "text/plain": [
       "<Figure size 432x288 with 1 Axes>"
      ]
     },
     "metadata": {},
     "output_type": "display_data"
    }
   ],
   "source": [
    "# plot the autocorrelation function - real, imaginary and absolute part\n",
    "y_real = autoCorr.real\n",
    "y_im = autoCorr.imag\n",
    "y_abs = abs(autoCorr**2)\n",
    "plt.plot(y_real, label=\"real\")\n",
    "plt.plot(y_im, label=\"imag\")\n",
    "plt.plot(y_abs, label=\"abs\")\n",
    "plt.legend()\n",
    "plt.title(\"Autocorrelation function\")\n",
    "plt.savefig(\"../figures/auto_C_func.pdf\", format=\"pdf\", bbox_inches=\"tight\")\n",
    "plt.show()"
   ]
  },
  {
   "cell_type": "code",
   "execution_count": 24,
   "metadata": {},
   "outputs": [
    {
     "name": "stdout",
     "output_type": "stream",
     "text": [
      "101\n"
     ]
    }
   ],
   "source": [
    "print(len(autoCorr))"
   ]
  },
  {
   "cell_type": "markdown",
   "metadata": {},
   "source": [
    "### Task 5: Discrete Fourier transform of the autocorrelation function"
   ]
  },
  {
   "cell_type": "code",
   "execution_count": 59,
   "metadata": {},
   "outputs": [
    {
     "name": "stdout",
     "output_type": "stream",
     "text": [
      "[ 9.18938578e+01-1.50910777e+01j  4.50739724e+00+1.84972403e+00j\n",
      "  3.25477263e+00-1.26488378e+00j  8.33415847e-01-1.36619509e+00j\n",
      "  2.80992932e-01-1.14577764e-01j  9.38689043e-01+3.45198460e-01j\n",
      "  1.54608593e+00-4.87004599e-01j  2.19466896e-01-1.72433049e+00j\n",
      " -1.78330456e+00+8.17272495e-02j  4.73758505e-01+2.64129383e+00j\n",
      "  3.31997716e+00-1.14042954e-02j  5.17719679e-01-2.88837446e+00j\n",
      " -2.07868190e+00-3.06224662e-01j  1.55729034e-02+1.71358585e+00j\n",
      "  1.34193850e+00+1.90810032e-01j  3.70644415e-01-5.22683810e-01j\n",
      "  1.18931982e-01-2.88814402e-02j  2.78701807e-01-9.83197006e-02j\n",
      "  2.79750980e-02-9.87212030e-02j  7.24709174e-02+2.04856693e-01j\n",
      "  3.62286955e-01+1.45610136e-01j  2.92298618e-01-1.24998009e-01j\n",
      "  4.38573026e-02-5.81734421e-02j  1.03120613e-01+1.43527804e-01j\n",
      "  2.44758921e-01+8.11145714e-02j  1.82385319e-01-1.46036654e-02j\n",
      "  1.16887188e-01+2.56827402e-02j  1.26576946e-01+6.58045547e-02j\n",
      "  1.55107445e-01+7.00334685e-02j  1.57965213e-01+2.68078464e-02j\n",
      "  8.79305880e-02+2.51975709e-02j  8.98527997e-02+1.10245627e-01j\n",
      "  1.77158378e-01+9.24135404e-02j  1.39706162e-01+3.86890188e-03j\n",
      "  5.43387365e-02+4.87938199e-02j  9.76534083e-02+1.16543652e-01j\n",
      "  1.40493336e-01+7.17417675e-02j  9.43746089e-02+4.64619875e-02j\n",
      "  8.08931991e-02+8.33872984e-02j  1.03341559e-01+8.10931741e-02j\n",
      "  8.55298753e-02+6.57601448e-02j  7.20326366e-02+8.81528372e-02j\n",
      "  9.20213041e-02+9.51272846e-02j  9.07146547e-02+7.32235233e-02j\n",
      "  6.47794614e-02+7.50967927e-02j  6.31569273e-02+9.76466894e-02j\n",
      "  7.79181315e-02+9.65850963e-02j  7.08057903e-02+8.42159226e-02j\n",
      "  5.79752428e-02+9.08788148e-02j  6.01984618e-02+9.78838070e-02j]\n"
     ]
    }
   ],
   "source": [
    "# discrete Fourier-transform the autocorrelation function - now we need all frequency components,\n",
    "# also the negative ones\n",
    "time_dft= len(t)\n",
    "time_stp = 0.1\n",
    "\n",
    "df1_trans = np.fft.fft(autoCorr)\n",
    "ener1_dft = np.fft.fftfreq(time_dft,d=time_stp)\n",
    "\n",
    "df_trans = df1_trans[0:time_dft//2] # Dropping the negative part \n",
    "ener_dft = ener1_dft[0:time_dft//2] # Dropping the negative part\n",
    "\n",
    "print(df_trans)"
   ]
  },
  {
   "cell_type": "markdown",
   "metadata": {},
   "source": [
    "### Task 6: Generate a plot of your results to be saved as pdf."
   ]
  },
  {
   "cell_type": "code",
   "execution_count": 58,
   "metadata": {},
   "outputs": [
    {
     "data": {
      "text/plain": [
       "Text(0.5, 0, 'Energy')"
      ]
     },
     "execution_count": 58,
     "metadata": {},
     "output_type": "execute_result"
    },
    {
     "data": {
      "image/png": "[encoded data removed]",
      "text/plain": [
       "<Figure size 432x288 with 1 Axes>"
      ]
     },
     "metadata": {},
     "output_type": "display_data"
    }
   ],
   "source": [
    "# plot the power spectrum (abs**2)\n",
    "plt.plot(ener_dft,abs(df_trans)**2)\n",
    "plt.ylim(-0.1,15)\n",
    "plt.xlabel(\"Energy\")"
   ]
  },
  {
   "cell_type": "code",
   "execution_count": null,
   "metadata": {},
   "outputs": [],
   "source": []
  }
 ],
 "metadata": {
  "kernelspec": {
   "display_name": "Python 3 (ipykernel)",
   "language": "python",
   "name": "python3"
  },
  "language_info": {
   "codemirror_mode": {
    "name": "ipython",
    "version": 3
   },
   "file_extension": ".py",
   "mimetype": "text/x-python",
   "name": "python",
   "nbconvert_exporter": "python",
   "pygments_lexer": "ipython3",
   "version": "3.9.0"
  }
 },
 "nbformat": 4,
 "nbformat_minor": 4
}
